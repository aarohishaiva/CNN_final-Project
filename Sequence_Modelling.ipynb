{
  "nbformat": 4,
  "nbformat_minor": 0,
  "metadata": {
    "colab": {
      "provenance": [],
      "authorship_tag": "ABX9TyMnjajDEXwTHMwVJs1L0aNg",
      "include_colab_link": true
    },
    "kernelspec": {
      "name": "python3",
      "display_name": "Python 3"
    },
    "language_info": {
      "name": "python"
    }
  },
  "cells": [
    {
      "cell_type": "markdown",
      "metadata": {
        "id": "view-in-github",
        "colab_type": "text"
      },
      "source": [
        "<a href=\"https://colab.research.google.com/github/aarohishaiva/CNN_final-Project/blob/main/Sequence_Modelling.ipynb\" target=\"_parent\"><img src=\"https://colab.research.google.com/assets/colab-badge.svg\" alt=\"Open In Colab\"/></a>"
      ]
    },
    {
      "cell_type": "code",
      "execution_count": 1,
      "metadata": {
        "colab": {
          "base_uri": "https://localhost:8080/"
        },
        "id": "vB0zmHGJSBsO",
        "outputId": "3f12a39c-4ad9-41b1-e247-ba5c88c349be"
      },
      "outputs": [
        {
          "output_type": "stream",
          "name": "stdout",
          "text": [
            "Requirement already satisfied: torch in /usr/local/lib/python3.10/dist-packages (2.5.0+cu121)\n",
            "Requirement already satisfied: torchvision in /usr/local/lib/python3.10/dist-packages (0.20.0+cu121)\n",
            "Requirement already satisfied: filelock in /usr/local/lib/python3.10/dist-packages (from torch) (3.16.1)\n",
            "Requirement already satisfied: typing-extensions>=4.8.0 in /usr/local/lib/python3.10/dist-packages (from torch) (4.12.2)\n",
            "Requirement already satisfied: networkx in /usr/local/lib/python3.10/dist-packages (from torch) (3.4.2)\n",
            "Requirement already satisfied: jinja2 in /usr/local/lib/python3.10/dist-packages (from torch) (3.1.4)\n",
            "Requirement already satisfied: fsspec in /usr/local/lib/python3.10/dist-packages (from torch) (2024.6.1)\n",
            "Requirement already satisfied: sympy==1.13.1 in /usr/local/lib/python3.10/dist-packages (from torch) (1.13.1)\n",
            "Requirement already satisfied: mpmath<1.4,>=1.1.0 in /usr/local/lib/python3.10/dist-packages (from sympy==1.13.1->torch) (1.3.0)\n",
            "Requirement already satisfied: numpy in /usr/local/lib/python3.10/dist-packages (from torchvision) (1.26.4)\n",
            "Requirement already satisfied: pillow!=8.3.*,>=5.3.0 in /usr/local/lib/python3.10/dist-packages (from torchvision) (10.4.0)\n",
            "Requirement already satisfied: MarkupSafe>=2.0 in /usr/local/lib/python3.10/dist-packages (from jinja2->torch) (3.0.2)\n"
          ]
        }
      ],
      "source": [
        "!pip install torch torchvision\n"
      ]
    },
    {
      "cell_type": "code",
      "source": [
        "import numpy as np\n",
        "import torch\n",
        "import torch.nn as nn\n",
        "import torch.nn.functional as F\n",
        "import matplotlib.pyplot as plt\n",
        "from torch.utils.data import Dataset, DataLoader\n",
        "\n",
        "# 1. Generate the Synthetic Dataset\n",
        "class SequenceDataset(Dataset):\n",
        "    def __init__(self, num_samples, seq_length):\n",
        "        self.data = []\n",
        "        for _ in range(num_samples):\n",
        "            source_seq = np.random.randint(1, 10, size=seq_length)\n",
        "            target_seq = source_seq[::-1]\n",
        "            self.data.append((source_seq, target_seq))\n",
        "\n",
        "    def __len__(self):\n",
        "        return len(self.data)\n",
        "\n",
        "    def __getitem__(self, idx):\n",
        "        source_seq, target_seq = self.data[idx]\n",
        "        return torch.tensor(source_seq.copy(), dtype=torch.long), torch.tensor(target_seq.copy(), dtype=torch.long)\n",
        "\n",
        "# Parameters\n",
        "num_samples = 10000\n",
        "seq_length = 10\n",
        "dataset = SequenceDataset(num_samples, seq_length)\n",
        "dataloader = DataLoader(dataset, batch_size=32, shuffle=True)\n",
        "\n",
        "# 2. Implement the Seq2Seq Model with Attention Mechanism\n",
        "class Attention(nn.Module):\n",
        "    def __init__(self, hidden_size):\n",
        "        super(Attention, self).__init__()\n",
        "        self.Wa = nn.Linear(hidden_size, hidden_size)\n",
        "        self.Ua = nn.Linear(hidden_size, hidden_size)\n",
        "        self.Va = nn.Linear(hidden_size, 1)\n",
        "\n",
        "    def forward(self, hidden, encoder_outputs):\n",
        "        # Expand the hidden state to match the encoder outputs\n",
        "        hidden = hidden.unsqueeze(1)  # Add a dimension to match encoder outputs\n",
        "        score = self.Va(torch.tanh(self.Wa(hidden) + self.Ua(encoder_outputs)))\n",
        "        attention_weights = F.softmax(score, dim=1)\n",
        "        context = attention_weights * encoder_outputs\n",
        "        context = context.sum(dim=1)\n",
        "        return context, attention_weights\n",
        "\n",
        "class Encoder(nn.Module):\n",
        "    def __init__(self, input_size, hidden_size):\n",
        "        super(Encoder, self).__init__()\n",
        "        self.hidden_size = hidden_size\n",
        "        self.embedding = nn.Embedding(input_size, hidden_size)\n",
        "        self.lstm = nn.LSTM(hidden_size, hidden_size, batch_first=True)\n",
        "\n",
        "    def forward(self, x):\n",
        "        embedded = self.embedding(x)\n",
        "        outputs, (hidden, cell) = self.lstm(embedded)\n",
        "        return outputs, hidden, cell\n",
        "\n",
        "class Decoder(nn.Module):\n",
        "    def __init__(self, output_size, hidden_size):\n",
        "        super(Decoder, self).__init__()\n",
        "        self.hidden_size = hidden_size\n",
        "        self.attention = Attention(hidden_size)\n",
        "        self.embedding = nn.Embedding(output_size, hidden_size)\n",
        "        self.lstm = nn.LSTM(hidden_size * 2, hidden_size, batch_first=True)  # Change input size to hidden_size * 2\n",
        "        self.fc = nn.Linear(hidden_size, output_size)\n",
        "\n",
        "    def forward(self, x, hidden, cell, encoder_outputs):\n",
        "        context, _ = self.attention(hidden[-1], encoder_outputs)\n",
        "        embedded = self.embedding(x.unsqueeze(1))  # Shape: (batch_size, 1, hidden_size)\n",
        "        lstm_input = torch.cat((embedded, context.unsqueeze(1)), dim=2)  # Shape: (batch_size, 1, hidden_size * 2)\n",
        "        output, (hidden, cell) = self.lstm(lstm_input, (hidden, cell))\n",
        "        prediction = self.fc(output.squeeze(1))\n",
        "        return prediction, hidden, cell\n",
        "\n",
        "class Seq2Seq(nn.Module):\n",
        "    def __init__(self, encoder, decoder):\n",
        "        super(Seq2Seq, self).__init__()\n",
        "        self.encoder = encoder\n",
        "        self.decoder = decoder\n",
        "\n",
        "    def forward(self, source, target):\n",
        "        encoder_outputs, hidden, cell = self.encoder(source)\n",
        "        outputs = torch.zeros(target.size(0), target.size(1), self.decoder.fc.out_features).to(source.device)\n",
        "\n",
        "        # Initialize the first input to the decoder as the start token\n",
        "        input = target[:, 0]\n",
        "\n",
        "        for t in range(1, target.size(1)):\n",
        "            output, hidden, cell = self.decoder(input, hidden, cell, encoder_outputs)\n",
        "            outputs[:, t] = output\n",
        "            input = target[:, t]  # Teacher forcing\n",
        "\n",
        "        return outputs\n",
        "\n",
        "# 3. Training the Model\n",
        "# Parameters\n",
        "input_size = 10  # Maximum value of random integers\n",
        "output_size = 10\n",
        "hidden_size = 64\n",
        "num_epochs = 10\n",
        "learning_rate = 0.001\n",
        "\n",
        "# Initialize model, loss function, and optimizer\n",
        "encoder = Encoder(input_size, hidden_size)\n",
        "decoder = Decoder(output_size, hidden_size)\n",
        "model = Seq2Seq(encoder, decoder)\n",
        "criterion = nn.CrossEntropyLoss()\n",
        "optimizer = torch.optim.Adam(model.parameters(), lr=learning_rate)\n",
        "\n",
        "# To store loss values\n",
        "loss_values = []\n",
        "\n",
        "# Training loop\n",
        "for epoch in range(num_epochs):\n",
        "    epoch_loss = 0\n",
        "    for source, target in dataloader:\n",
        "        optimizer.zero_grad()\n",
        "        output = model(source, target)\n",
        "\n",
        "        output_dim = output.shape[2]\n",
        "        output = output[1:].reshape(-1, output_dim)  # Exclude the <sos> token\n",
        "        target = target[1:].reshape(-1)  # Exclude the <sos> token\n",
        "\n",
        "        loss = criterion(output, target)\n",
        "        loss.backward()\n",
        "        optimizer.step()\n",
        "\n",
        "        epoch_loss += loss.item()\n",
        "\n",
        "    avg_loss = epoch_loss / len(dataloader)\n",
        "    loss_values.append(avg_loss)\n",
        "    print(f'Epoch {epoch + 1}/{num_epochs}, Loss: {avg_loss:.4f}')\n",
        "\n",
        "# 4. Plotting Loss Curves\n",
        "plt.plot(loss_values)\n",
        "plt.xlabel('Epochs')\n",
        "plt.ylabel('Loss')\n",
        "plt.title('Loss Curve for Seq2Seq Model with Attention')\n",
        "plt.show()\n"
      ],
      "metadata": {
        "colab": {
          "base_uri": "https://localhost:8080/",
          "height": 646
        },
        "id": "0LSmrrCyTLPO",
        "outputId": "2c8e086e-3b64-4949-99ee-511f46efce45"
      },
      "execution_count": 7,
      "outputs": [
        {
          "output_type": "stream",
          "name": "stdout",
          "text": [
            "Epoch 1/10, Loss: 1.1746\n",
            "Epoch 2/10, Loss: 0.3709\n",
            "Epoch 3/10, Loss: 0.2596\n",
            "Epoch 4/10, Loss: 0.2399\n",
            "Epoch 5/10, Loss: 0.2353\n",
            "Epoch 6/10, Loss: 0.2332\n",
            "Epoch 7/10, Loss: 0.2322\n",
            "Epoch 8/10, Loss: 0.2316\n",
            "Epoch 9/10, Loss: 0.2312\n",
            "Epoch 10/10, Loss: 0.3802\n"
          ]
        },
        {
          "output_type": "display_data",
          "data": {
            "text/plain": [
              "<Figure size 640x480 with 1 Axes>"
            ],
            "image/png": "[encoded data removed]"
          },
          "metadata": {}
        }
      ]
    }
  ]
}